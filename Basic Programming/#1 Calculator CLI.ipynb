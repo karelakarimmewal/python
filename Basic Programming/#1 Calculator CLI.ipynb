{
 "cells": [
  {
   "cell_type": "markdown",
   "id": "508e28c8-58fa-4b56-8b69-3703325060c5",
   "metadata": {},
   "source": [
    "## EXAMPLE 1 \n",
    "### (CALCULATOR CLI)"
   ]
  },
  {
   "cell_type": "markdown",
   "id": "ddaccc77-f258-45b5-bf2a-1eeae4e553a1",
   "metadata": {},
   "source": [
    "Time Start : 11/12/2023, 2.28 AM\n",
    "; Time End : 11/12/2023, 2.59 AM"
   ]
  },
  {
   "cell_type": "code",
   "execution_count": 39,
   "id": "ac8148ec-33a8-438d-b848-85310cf2378e",
   "metadata": {},
   "outputs": [
    {
     "name": "stdout",
     "output_type": "stream",
     "text": [
      "________________________________\n",
      "Choose operator what u want !!! \n",
      "________________________________\n",
      "1. Add\n",
      "2. Substract\n",
      "3. Multiply\n",
      "4. Divide\n",
      "________________________________\n",
      "________________________________\n",
      "________________________________\n"
     ]
    },
    {
     "name": "stdin",
     "output_type": "stream",
     "text": [
      "Operator :  4\n",
      "First Number 0\n",
      "Second Number 10\n"
     ]
    },
    {
     "name": "stdout",
     "output_type": "stream",
     "text": [
      "0.0 / 10.0 = 0.0\n"
     ]
    }
   ],
   "source": [
    "class calculator:\n",
    "    print(\"________________________________\")\n",
    "    print(\"Choose operator what u want !!! \")\n",
    "    print(\"________________________________\")\n",
    "    print(\"1. Add\")\n",
    "    print(\"2. Substract\")\n",
    "    print(\"3. Multiply\")\n",
    "    print(\"4. Divide\")\n",
    "    print(\"________________________________\")\n",
    "    print(\"________________________________\")\n",
    "    print(\"________________________________\")\n",
    "    \n",
    "    operator  = input(\"Operator : \")\n",
    "    a = float(input(\"First Number\"))\n",
    "    b = float(input(\"Second Number\"))\n",
    "   \n",
    "    def add(a,b):\n",
    "        return a + b\n",
    "    def substract(a,b):\n",
    "        return a - b\n",
    "    def multiply(a,b):\n",
    "        return a * b\n",
    "    def divide(a,b):\n",
    "        if b != 0:\n",
    "            return a/b\n",
    "        else:\n",
    "            return \"Invalid Number\"\n",
    "    \n",
    "    def base(operator, a, b):\n",
    "        #check\n",
    "        if operator == \"1\":\n",
    "            results = add(a,b)\n",
    "            print(f\"{a} + {b} = {results}\")\n",
    "        elif operator == \"2\":\n",
    "            results = substract(a,b)\n",
    "            print(f\"{a} - {b} = {results}\")\n",
    "        elif operator == \"3\":\n",
    "            results = multiply(a,b)\n",
    "            print(f\"{a} * {b} = {results}\")\n",
    "        elif operator == \"4\":\n",
    "            results = divide(a,b)\n",
    "            print(f\"{a} / {b} = {results}\")\n",
    "        else:\n",
    "            print(\"Invalid Action\")\n",
    "    base(operator, a, b)"
   ]
  }
 ],
 "metadata": {
  "kernelspec": {
   "display_name": "Python 3 (ipykernel)",
   "language": "python",
   "name": "python3"
  },
  "language_info": {
   "codemirror_mode": {
    "name": "ipython",
    "version": 3
   },
   "file_extension": ".py",
   "mimetype": "text/x-python",
   "name": "python",
   "nbconvert_exporter": "python",
   "pygments_lexer": "ipython3",
   "version": "3.10.7"
  }
 },
 "nbformat": 4,
 "nbformat_minor": 5
}
