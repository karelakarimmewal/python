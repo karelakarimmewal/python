{
 "cells": [
  {
   "cell_type": "markdown",
   "id": "0ad99aef-bb6f-43cd-83d3-0bf97e507421",
   "metadata": {
    "tags": []
   },
   "source": [
    "## EXAMPLE 7\n",
    "### (BMR CALCULATOR PROJECT)"
   ]
  },
  {
   "cell_type": "code",
   "execution_count": 17,
   "id": "65b1c185-a0db-4fd2-b333-9a3101f57db9",
   "metadata": {},
   "outputs": [
    {
     "name": "stdout",
     "output_type": "stream",
     "text": [
      "___________________\n",
      "  Insert Detail    \n",
      "1. Male(0) / Female(1) : \n"
     ]
    },
    {
     "name": "stdin",
     "output_type": "stream",
     "text": [
      " 0\n"
     ]
    },
    {
     "name": "stdout",
     "output_type": "stream",
     "text": [
      "2. Age : \n"
     ]
    },
    {
     "name": "stdin",
     "output_type": "stream",
     "text": [
      " 21\n"
     ]
    },
    {
     "name": "stdout",
     "output_type": "stream",
     "text": [
      "3. Height (cm) : \n"
     ]
    },
    {
     "name": "stdin",
     "output_type": "stream",
     "text": [
      " 166\n"
     ]
    },
    {
     "name": "stdout",
     "output_type": "stream",
     "text": [
      "4. Weight (kg) : \n"
     ]
    },
    {
     "name": "stdin",
     "output_type": "stream",
     "text": [
      " 57\n"
     ]
    },
    {
     "name": "stdout",
     "output_type": "stream",
     "text": [
      "Male with age 21 years, height 166 cm, and weight 57 kg has a BMI of 1539.00\n"
     ]
    }
   ],
   "source": [
    "class BMRCalculator(): \n",
    "    def __init__(self, GenderVal, OldVal, HeightVal, WeightVal):\n",
    "        self.GenderVal = int(GenderVal)\n",
    "        self.OldVal = float(OldVal)\n",
    "        self.HeightVal = float(HeightVal)\n",
    "        self.WeightVal = float(WeightVal)\n",
    "        self.results, self.gender = self.Calculator()\n",
    "        \n",
    "    def Calculator(self):\n",
    "        gender = ''\n",
    "        if self.GenderVal == 0:\n",
    "            results = 66.5 + (13.75 * self.WeightVal) + (5.003 * self.HeightVal) - (6.75 * self.OldVal)\n",
    "            gender = \"Male\"\n",
    "        elif self.GenderVal == 1:\n",
    "            results = 655.1 + (9.563 * self.WeightVal) + (1.850 * self.HeightVal) - (4.676 * self.OldVal)\n",
    "            gender = \"Female\"\n",
    "        else:\n",
    "            print(\"Gender Invalid\")\n",
    "            results, gender = None, None\n",
    "        return results, gender\n",
    "    \n",
    "def CLI():\n",
    "    print(\"___________________\")\n",
    "    print(\"  Insert Detail    \")\n",
    "    print(\"1. Male(0) / Female(1) : \")\n",
    "    GenderVal = input()\n",
    "    print(\"2. Age : \")\n",
    "    OldVal = input()\n",
    "    print(\"3. Height (cm) : \")\n",
    "    HeightVal = input()\n",
    "    print(\"4. Weight (kg) : \")\n",
    "    WeightVal = input()\n",
    "    \n",
    "    bmr_calculator = BMRCalculator(GenderVal, OldVal, HeightVal, WeightVal)\n",
    "    \n",
    "    results, gender = bmr_calculator.results, bmr_calculator.gender\n",
    "    \n",
    "    if results is not None and gender is not None:\n",
    "        print(f\"{gender} with age {OldVal} years, height {HeightVal} cm, and weight {WeightVal} kg has a BMI is {results:.2f} Calor/Day\")\n",
    "    \n",
    "CLI()"
   ]
  }
 ],
 "metadata": {
  "kernelspec": {
   "display_name": "Python 3 (ipykernel)",
   "language": "python",
   "name": "python3"
  },
  "language_info": {
   "codemirror_mode": {
    "name": "ipython",
    "version": 3
   },
   "file_extension": ".py",
   "mimetype": "text/x-python",
   "name": "python",
   "nbconvert_exporter": "python",
   "pygments_lexer": "ipython3",
   "version": "3.10.7"
  }
 },
 "nbformat": 4,
 "nbformat_minor": 5
}
