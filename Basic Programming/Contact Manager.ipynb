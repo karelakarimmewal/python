{
 "cells": [
  {
   "cell_type": "markdown",
   "id": "17499de3-e46c-4ea2-a6c8-155f67209711",
   "metadata": {},
   "source": [
    "## EXAMPLE 2 \n",
    "### (Contact Manager)"
   ]
  },
  {
   "cell_type": "markdown",
   "id": "0ce39f27-22b1-470d-bf33-8ee7b7b94f59",
   "metadata": {},
   "source": [
    "Time Start : 11/12/2023, 3.12 AM\n",
    "; Time End : 11/12/2023, 4.11 AM"
   ]
  },
  {
   "cell_type": "code",
   "execution_count": 12,
   "id": "5bbb240b-94c4-47b2-b947-253c2b80b9d7",
   "metadata": {},
   "outputs": [],
   "source": [
    "import json\n",
    "from tabulate import tabulate"
   ]
  },
  {
   "cell_type": "code",
   "execution_count": 13,
   "id": "0305ad47-7063-4e11-860b-052f8acf5bc3",
   "metadata": {},
   "outputs": [],
   "source": [
    "class Contact:\n",
    "    def __init__(self, index, name, phone, email):\n",
    "        self.index = index\n",
    "        self.name = name\n",
    "        self.phone = phone\n",
    "        self.email = email"
   ]
  },
  {
   "cell_type": "code",
   "execution_count": 14,
   "id": "cff5e0d3-7346-4294-b499-963f1ad8c323",
   "metadata": {},
   "outputs": [],
   "source": [
    "class ContactManager:\n",
    "    def __init__(self):\n",
    "        self.contacts = []\n",
    "\n",
    "    def load_contacts(self):\n",
    "        try:\n",
    "            with open(\"contacts.json\", \"r\") as file:\n",
    "                data = json.load(file)\n",
    "                self.contacts = [Contact(**contact_data) for contact_data in data]\n",
    "        except FileNotFoundError:\n",
    "            pass  # File belum ada, biarkan kosong\n",
    "\n",
    "    def save_contacts(self):\n",
    "        with open(\"contacts.json\", \"w\") as file:\n",
    "            data = [{\"index\": contact.index, \"name\": contact.name, \"phone\": contact.phone, \"email\": contact.email}\n",
    "                    for contact in self.contacts]\n",
    "            json.dump(data, file)\n",
    "\n",
    "    def update_indexes(self):\n",
    "        for index, contact in enumerate(self.contacts, start=1):\n",
    "            contact.index = index\n",
    "\n",
    "    def add_contact(self, name, phone, email):\n",
    "        new_index = len(self.contacts) + 1\n",
    "        contact = Contact(new_index, name, phone, email)\n",
    "        self.contacts.append(contact)\n",
    "        print(f\"Kontak {name} berhasil ditambahkan dengan indeks {new_index}.\")\n",
    "        print(\"____________________________________\")\n",
    "        print(\"\\n\")\n",
    "        self.save_contacts()  # Simpan kontak setelah ditambahkan\n",
    "        self.update_indexes()  # Perbarui indeks setelah penambahan\n",
    "\n",
    "    def remove_contact(self, search_key):\n",
    "        for contact in self.contacts:\n",
    "            if search_key.lower() in contact.name.lower() or search_key in contact.phone:\n",
    "                self.contacts.remove(contact)\n",
    "                print(f\"Kontak {contact.name} dengan indeks {contact.index} berhasil dihapus.\")\n",
    "                self.save_contacts()  # Simpan kontak setelah dihapus\n",
    "                self.update_indexes()  # Perbarui indeks setelah penghapusan\n",
    "                return\n",
    "        print(f\"Tidak ditemukan kontak dengan nama atau nomor telepon: {search_key}\")\n",
    "\n",
    "    def display_contacts(self):\n",
    "        if not self.contacts:\n",
    "            print(\"Daftar kontak kosong.\")\n",
    "            print(\"\\n\")\n",
    "            return\n",
    "\n",
    "        headers = [\"Indeks\", \"Nama\", \"Telepon\", \"Email\"]\n",
    "        table_data = [[contact.index, contact.name, contact.phone, contact.email] for contact in self.contacts]\n",
    "\n",
    "        # Menampilkan tabel dengan menggunakan tabulate\n",
    "        print(\"___________ Daftar Kontak ___________\")\n",
    "        print(tabulate(table_data, headers, tablefmt=\"grid\"))\n",
    "        print(\"_____________________________________\")\n",
    "        print(\"\\n\")"
   ]
  },
  {
   "cell_type": "code",
   "execution_count": 15,
   "id": "e41b71d2-ede2-4db6-acb9-35d59dc1b119",
   "metadata": {},
   "outputs": [],
   "source": [
    "def cli():\n",
    "    contact_manager = ContactManager()\n",
    "    contact_manager.load_contacts()  # Memuat kontak dari file saat program dimulai\n",
    "    while True:\n",
    "        print(\"============ Pilih Operasi: ============\")\n",
    "        print(\"|          1. Tambah Kontak            |\")\n",
    "        print(\"|          2. Hapus Kontak             |\")\n",
    "        print(\"|          3. Tampilkan Daftar Kontak  |\")\n",
    "        print(\"|          4. Keluar                   |\")\n",
    "        print(\"========================================\")\n",
    "        choice = input(\"Answer : \")\n",
    "        print(\"\\n\")\n",
    "\n",
    "        if choice == \"1\":\n",
    "            print(\"____________________________________\")\n",
    "            print(\"              Add Contact\")\n",
    "            name = input(\"Nama :\")\n",
    "            phone = input(\"Phone Number :\")\n",
    "            email = input(\"Email :\")\n",
    "            contact_manager.add_contact(name, phone, email)\n",
    "        elif choice == \"2\":\n",
    "            search_key = input(\"Masukkan nama atau nomor telepon untuk dihapus :\")\n",
    "            contact_manager.remove_contact(search_key)\n",
    "        elif choice == \"3\":\n",
    "            contact_manager.display_contacts()\n",
    "        elif choice == \"4\":\n",
    "            print(\"Keluar dari program.\")\n",
    "            contact_manager.save_contacts()  # Simpan kontak sebelum program berakhir\n",
    "            break\n",
    "        else:\n",
    "            print(\"Operasi tidak valid. Silakan pilih lagi.\")"
   ]
  },
  {
   "cell_type": "code",
   "execution_count": null,
   "id": "65067f69-6015-4001-8795-2d89de649891",
   "metadata": {},
   "outputs": [
    {
     "name": "stdout",
     "output_type": "stream",
     "text": [
      "============ Pilih Operasi: ============\n",
      "|          1. Tambah Kontak            |\n",
      "|          2. Hapus Kontak             |\n",
      "|          3. Tampilkan Daftar Kontak  |\n",
      "|          4. Keluar                   |\n",
      "========================================\n"
     ]
    },
    {
     "name": "stdin",
     "output_type": "stream",
     "text": [
      "Answer :  1\n"
     ]
    },
    {
     "name": "stdout",
     "output_type": "stream",
     "text": [
      "\n",
      "\n",
      "____________________________________\n",
      "              Add Contact\n"
     ]
    },
    {
     "name": "stdin",
     "output_type": "stream",
     "text": [
      "Nama : Karel A Karim Mewaa\n",
      "Phone Number : 123\n",
      "Email : kamnrka\n"
     ]
    },
    {
     "name": "stdout",
     "output_type": "stream",
     "text": [
      "Kontak Karel A Karim Mewaa berhasil ditambahkan dengan indeks 4.\n",
      "____________________________________\n",
      "\n",
      "\n",
      "============ Pilih Operasi: ============\n",
      "|          1. Tambah Kontak            |\n",
      "|          2. Hapus Kontak             |\n",
      "|          3. Tampilkan Daftar Kontak  |\n",
      "|          4. Keluar                   |\n",
      "========================================\n"
     ]
    },
    {
     "name": "stdin",
     "output_type": "stream",
     "text": [
      "Answer :  3\n"
     ]
    },
    {
     "name": "stdout",
     "output_type": "stream",
     "text": [
      "\n",
      "\n",
      "___________ Daftar Kontak ___________\n",
      "+----------+---------------------+---------------+---------+\n",
      "|   Indeks | Nama                | Telepon       | Email   |\n",
      "+==========+=====================+===============+=========+\n",
      "|        1 | jashd               | adjksh        | ajsdh   |\n",
      "+----------+---------------------+---------------+---------+\n",
      "|        2 | jadhs               | klas          | klasjd  |\n",
      "+----------+---------------------+---------------+---------+\n",
      "|        3 | Karel A Karim Mewal | 0821326999999 | kaerlm  |\n",
      "+----------+---------------------+---------------+---------+\n",
      "|        4 | Karel A Karim Mewaa | 123           | kamnrka |\n",
      "+----------+---------------------+---------------+---------+\n",
      "_____________________________________\n",
      "\n",
      "\n",
      "============ Pilih Operasi: ============\n",
      "|          1. Tambah Kontak            |\n",
      "|          2. Hapus Kontak             |\n",
      "|          3. Tampilkan Daftar Kontak  |\n",
      "|          4. Keluar                   |\n",
      "========================================\n"
     ]
    }
   ],
   "source": [
    "if __name__ == \"__main__\":\n",
    "    cli()"
   ]
  },
  {
   "cell_type": "code",
   "execution_count": null,
   "id": "ff07aa2f-0d7a-441b-90ab-aeb047ce808a",
   "metadata": {},
   "outputs": [],
   "source": []
  },
  {
   "cell_type": "code",
   "execution_count": null,
   "id": "45561ed7-e4d8-4b6d-b51e-a98594abaec0",
   "metadata": {},
   "outputs": [],
   "source": []
  },
  {
   "cell_type": "code",
   "execution_count": null,
   "id": "9a5fd74e-9280-4380-add0-17205eba5c84",
   "metadata": {},
   "outputs": [],
   "source": []
  }
 ],
 "metadata": {
  "kernelspec": {
   "display_name": "Python 3 (ipykernel)",
   "language": "python",
   "name": "python3"
  },
  "language_info": {
   "codemirror_mode": {
    "name": "ipython",
    "version": 3
   },
   "file_extension": ".py",
   "mimetype": "text/x-python",
   "name": "python",
   "nbconvert_exporter": "python",
   "pygments_lexer": "ipython3",
   "version": "3.10.7"
  }
 },
 "nbformat": 4,
 "nbformat_minor": 5
}
