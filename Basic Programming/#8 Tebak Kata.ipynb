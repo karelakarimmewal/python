{
 "cells": [
  {
   "cell_type": "markdown",
   "id": "3597883c-9938-4119-a28e-2dd45306d35f",
   "metadata": {
    "tags": []
   },
   "source": [
    "## EXAMPLE 8\n",
    "### (Tebak Kata)"
   ]
  },
  {
   "cell_type": "code",
   "execution_count": 2,
   "id": "69fa45f7-9531-4f41-ac40-defca5912071",
   "metadata": {},
   "outputs": [
    {
     "name": "stdout",
     "output_type": "stream",
     "text": [
      "Tebak kata:\n",
      "_ _ _ _ _ _ _ _ _ _ _\n"
     ]
    },
    {
     "name": "stdin",
     "output_type": "stream",
     "text": [
      "Masukkan tebakan Anda:  program\n"
     ]
    },
    {
     "name": "stdout",
     "output_type": "stream",
     "text": [
      "Coba lagi. Salah!\n",
      "Tebak kata:\n",
      "p r o g r a m m _ _ g\n"
     ]
    },
    {
     "name": "stdin",
     "output_type": "stream",
     "text": [
      "Masukkan tebakan Anda:  pemrogramman\n"
     ]
    },
    {
     "name": "stdout",
     "output_type": "stream",
     "text": [
      "Coba lagi. Salah!\n",
      "Tebak kata:\n",
      "p r o g r a m m _ n g\n"
     ]
    },
    {
     "name": "stdin",
     "output_type": "stream",
     "text": [
      "Masukkan tebakan Anda:  programming\n"
     ]
    },
    {
     "name": "stdout",
     "output_type": "stream",
     "text": [
      "Selamat! Anda berhasil menebak kata.\n"
     ]
    }
   ],
   "source": [
    "import random\n",
    "\n",
    "def acak_kata():\n",
    "    kata_kunci = [\"programming\", \"teknologi\", \"algoritma\", \"python\", \"koding\", \"openai\", \"gpt\", \"rekayasa\"]\n",
    "    kata_tersembunyi = random.choice(kata_kunci)\n",
    "    return kata_tersembunyi\n",
    "\n",
    "def main():\n",
    "    kata_tersembunyi = acak_kata()\n",
    "    tebakan = \"\"\n",
    "    \n",
    "    while tebakan != kata_tersembunyi:\n",
    "        print(\"Tebak kata:\")\n",
    "        print(\" \".join(\"_\" if huruf not in tebakan else huruf for huruf in kata_tersembunyi))\n",
    "        \n",
    "        tebakan = input(\"Masukkan tebakan Anda: \").lower()\n",
    "        \n",
    "        if tebakan == kata_tersembunyi:\n",
    "            print(\"Selamat! Anda berhasil menebak kata.\")\n",
    "        else:\n",
    "            print(\"Coba lagi. Salah!\")\n",
    "\n",
    "if __name__ == \"__main__\":\n",
    "    main()"
   ]
  },
  {
   "cell_type": "code",
   "execution_count": null,
   "id": "74c87eca-e602-4a3a-8da6-af32d098d76c",
   "metadata": {},
   "outputs": [],
   "source": []
  }
 ],
 "metadata": {
  "kernelspec": {
   "display_name": "Python 3 (ipykernel)",
   "language": "python",
   "name": "python3"
  },
  "language_info": {
   "codemirror_mode": {
    "name": "ipython",
    "version": 3
   },
   "file_extension": ".py",
   "mimetype": "text/x-python",
   "name": "python",
   "nbconvert_exporter": "python",
   "pygments_lexer": "ipython3",
   "version": "3.10.7"
  }
 },
 "nbformat": 4,
 "nbformat_minor": 5
}
