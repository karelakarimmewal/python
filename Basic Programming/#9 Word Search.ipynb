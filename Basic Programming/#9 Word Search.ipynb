{
 "cells": [
  {
   "cell_type": "markdown",
   "id": "9490fff3-2214-40a2-a77b-5f0b3c6c6f3a",
   "metadata": {
    "tags": []
   },
   "source": [
    "## EXAMPLE 9\n",
    "### (Pencarian Data dalam Teks)"
   ]
  },
  {
   "cell_type": "code",
   "execution_count": 14,
   "id": "410c8d29-eb82-4e53-902a-9b1110fca120",
   "metadata": {},
   "outputs": [],
   "source": [
    "import re\n",
    "\n",
    "def search(target_word, paragraph):\n",
    "    # Menggunakan regular expression untuk pemisahan kata yang lebih canggih\n",
    "    words = re.findall(r'\\b\\w+\\b', paragraph)\n",
    "    \n",
    "    # Mengonversi setiap kata ke huruf kecil\n",
    "    words = [word.lower() for word in words]\n",
    "    \n",
    "    if target_word.lower() in words:\n",
    "        return True\n",
    "    else:\n",
    "        return False\n"
   ]
  },
  {
   "cell_type": "code",
   "execution_count": 17,
   "id": "e0087676-d34c-4ce9-bfc4-68b2f2315f00",
   "metadata": {},
   "outputs": [
    {
     "data": {
      "text/plain": [
       "True"
      ]
     },
     "execution_count": 17,
     "metadata": {},
     "output_type": "execute_result"
    }
   ],
   "source": [
    "paragraft = \"Ini adalah contoh pemisahan kata dalam Python\"\n",
    "kata = \"ini\"\n",
    "search(kata, paragraft)"
   ]
  }
 ],
 "metadata": {
  "kernelspec": {
   "display_name": "Python 3 (ipykernel)",
   "language": "python",
   "name": "python3"
  },
  "language_info": {
   "codemirror_mode": {
    "name": "ipython",
    "version": 3
   },
   "file_extension": ".py",
   "mimetype": "text/x-python",
   "name": "python",
   "nbconvert_exporter": "python",
   "pygments_lexer": "ipython3",
   "version": "3.10.7"
  }
 },
 "nbformat": 4,
 "nbformat_minor": 5
}
