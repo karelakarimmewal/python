{
 "cells": [
  {
   "cell_type": "markdown",
   "id": "393e73ab-bd9a-4ca4-a096-e90edade7c60",
   "metadata": {},
   "source": [
    "### Live Code\n",
    "Contoh dilakukan pada test teknikal NDS"
   ]
  },
  {
   "cell_type": "code",
   "execution_count": 2,
   "id": "33f94aab-ba49-487a-8030-2c767965ee54",
   "metadata": {},
   "outputs": [
    {
     "name": "stdout",
     "output_type": "stream",
     "text": [
      "Nilai 1 % 1 = True\n",
      "Nilai 2 % 2 = True\n",
      "Nilai 3 % 3 = True\n",
      "Nilai 4 % 4 = True\n",
      "Nilai 5 % 5 = True\n",
      "Nilai 6 % 6 = True\n",
      "Nilai 7 % 7 = True\n",
      "Nilai 8 % 8 = True\n",
      "Nilai 9 % 9 = True\n",
      "Nilai 1 % 10 = False\n",
      "Nilai 0 % 11 = True\n",
      "Nilai akhirnya adalah False\n"
     ]
    }
   ],
   "source": [
    "def modulus(a):\n",
    "    ListAngka = []\n",
    "    ModKet = []\n",
    "    for angka in a:\n",
    "        ListAngka.append(int(angka))\n",
    "        \n",
    "    i = 1  \n",
    "    for num in ListAngka:\n",
    "        ModKet.append(num % i)\n",
    "        i += 1\n",
    "    keterangan(ListAngka,ModKet)\n",
    "    return ListAngka, ModKet\n",
    "\n",
    "def keterangan(awal, akhir):\n",
    "    bol = []\n",
    "    for i in range(len(awal)):\n",
    "        if akhir[i] == 0:\n",
    "            print(f\"Nilai {awal[i]} % {i+1} = True\")\n",
    "        elif akhir[i] != 0:\n",
    "            print(f\"Nilai {awal[i]} % {i+1} = False\")\n",
    "            bol.append(\"False\")\n",
    "    if len(bol) > 0:\n",
    "        print(\"Nilai akhirnya adalah False\")\n",
    "    else:\n",
    "        print(\"Nilai akhirnya adalah True\")\n",
    "            \n",
    "result = modulus(\"12345678910\")"
   ]
  },
  {
   "cell_type": "markdown",
   "id": "7a10e35b-968c-4212-8411-24236a9dcc83",
   "metadata": {
    "tags": []
   },
   "source": [
    "## Faktorial\n",
    "Hitung faktorial dari sebuah bilangan."
   ]
  },
  {
   "cell_type": "code",
   "execution_count": 3,
   "id": "38f0dbe2-8964-43db-9aa2-4d6418809bb6",
   "metadata": {},
   "outputs": [
    {
     "name": "stdout",
     "output_type": "stream",
     "text": [
      "Nilai Factorial dari 5 adalah 120\n"
     ]
    }
   ],
   "source": [
    "def factorial(nilai):\n",
    "    if nilai == 0 or nilai == 1:\n",
    "        return nilai\n",
    "    else:\n",
    "        return nilai*factorial(nilai-1)\n",
    "nilai = 5    \n",
    "print(f\"Nilai Factorial dari {nilai} adalah {factorial(nilai)}\")"
   ]
  },
  {
   "cell_type": "markdown",
   "id": "f21f635e-84fc-4a46-a39a-16f5c8cfa1f2",
   "metadata": {
    "tags": []
   },
   "source": [
    "## Deret Aritmatika\n",
    "Buat program untuk menghitung jumlah deret aritmatika dengan batas tertentu."
   ]
  },
  {
   "cell_type": "code",
   "execution_count": 4,
   "id": "91205355-99a7-4c20-aeb8-66a60550a7fd",
   "metadata": {},
   "outputs": [
    {
     "name": "stdout",
     "output_type": "stream",
     "text": [
      "Jumlah deret aritmatika dengan suku pertama 2, selisih 2, dan 100 suku adalah 104\n"
     ]
    }
   ],
   "source": [
    "def aritmatic(x,y,z):\n",
    "    jumlah = x * (2 * y + (x - 1) * z) // 2\n",
    "    return jumlah\n",
    "x = 2\n",
    "y = 2\n",
    "z = 100\n",
    "print(f\"Jumlah deret aritmatika dengan suku pertama {x}, selisih {y}, dan {z} suku adalah {aritmatic(x,y,z)}\")"
   ]
  },
  {
   "cell_type": "markdown",
   "id": "c497cb7e-f79a-4591-8175-533dabd3654b",
   "metadata": {
    "tags": []
   },
   "source": [
    "## Palindrom\n",
    "Tentukan apakah sebuah kata atau frase adalah palindrom."
   ]
  },
  {
   "cell_type": "code",
   "execution_count": 5,
   "id": "bbdec37d-0c76-4a6f-a603-c53e7fa95561",
   "metadata": {},
   "outputs": [
    {
     "name": "stdout",
     "output_type": "stream",
     "text": [
      "Kata 'level' merupakan sebuah palindrom, True\n"
     ]
    }
   ],
   "source": [
    "def Palindrom(newString):\n",
    "    CleanedString = ''.join(filter(str.isalnum, newString)).lower()\n",
    "    return CleanedString == CleanedString[::-1]\n",
    "\n",
    "# Contoh penggunaan\n",
    "kata = \"level\"\n",
    "Palindrom(kata)\n",
    "print(f\"Kata '{kata}' merupakan sebuah palindrom, {Palindrom(kata)}\")"
   ]
  },
  {
   "cell_type": "markdown",
   "id": "00b1e2e0-de1f-4398-8107-f336d66ddc83",
   "metadata": {
    "tags": []
   },
   "source": [
    "## Bubble Sort\n",
    "Implementasikan algoritma Bubble Sort untuk mengurutkan sebuah array."
   ]
  },
  {
   "cell_type": "code",
   "execution_count": 6,
   "id": "2955658f-9c44-4188-9f8b-203315047efc",
   "metadata": {},
   "outputs": [
    {
     "name": "stdout",
     "output_type": "stream",
     "text": [
      "Nilai array sebelum di sort adalah [10, 22, 9, 2, 19]\n",
      "Nilai array setelah di sort adalah [2, 9, 10, 19, 22]\n"
     ]
    }
   ],
   "source": [
    "def BubbleSort(arr):\n",
    "    lenght = len(arr)\n",
    "    for i in range(lenght):\n",
    "        for j in range(0, lenght-i-1):\n",
    "            if arr[j] > arr[j+1]:\n",
    "                arr[j], arr[j+1] = arr[j+1], arr[j]\n",
    "                \n",
    "arr = [10,22,9,2,19]\n",
    "print(f'Nilai array sebelum di sort adalah {arr}')\n",
    "BubbleSort(arr)\n",
    "print(f'Nilai array setelah di sort adalah {arr}')"
   ]
  },
  {
   "cell_type": "markdown",
   "id": "40b14f2c-41b0-40fd-8c27-f2fcbd491024",
   "metadata": {},
   "source": [
    "### Cari Angka Terbesar:\n",
    "Buat program untuk menentukan angka terbesar dalam sebuah array."
   ]
  },
  {
   "cell_type": "code",
   "execution_count": 7,
   "id": "e2e65b65-e1a9-40b1-a3db-e12f01eda299",
   "metadata": {},
   "outputs": [
    {
     "name": "stdout",
     "output_type": "stream",
     "text": [
      "Nilai terbesar dari himpunan array [2, 9, 10, 19, 22] adalah 22\n"
     ]
    }
   ],
   "source": [
    "def BiggestNum(arr):\n",
    "    big = 0\n",
    "    for i in(arr):\n",
    "        if big < i:\n",
    "            big = i\n",
    "    return big\n",
    "print(f'Nilai terbesar dari himpunan array {arr} adalah {BiggestNum(arr)}')"
   ]
  },
  {
   "cell_type": "markdown",
   "id": "4ce3bbd1-4c50-4a1a-8a99-09275c2c358b",
   "metadata": {},
   "source": [
    "### Cek Bilangan Prima:\n",
    "Tentukan apakah suatu bilangan adalah bilangan prima atau bukan."
   ]
  },
  {
   "cell_type": "code",
   "execution_count": 8,
   "id": "08129545-bf5a-4753-a5e5-51dbb7e1a085",
   "metadata": {},
   "outputs": [
    {
     "name": "stdout",
     "output_type": "stream",
     "text": [
      "17 adalah bilangan prima.\n"
     ]
    }
   ],
   "source": [
    "def Prime(newVal):\n",
    "    # Bilangan kurang dari 2 bukan prima\n",
    "    if newVal < 2:\n",
    "        return False\n",
    "    # Iterasi dari 2 hingga akar kuadrat dari angka\n",
    "    for i in range(2, int(newVal**0.5) + 1):\n",
    "        # Jika angka dapat dibagi habis, bukan prima\n",
    "        if newVal % i == 0:\n",
    "            return False\n",
    "    # Jika tidak ada pembagi selain 1 dan angka itu sendiri, adalah prima\n",
    "    return True\n",
    "\n",
    "# Contoh penggunaan\n",
    "bilangan = 17\n",
    "\n",
    "if Prime(bilangan):\n",
    "    print(f\"{bilangan} adalah bilangan prima.\")\n",
    "else:\n",
    "    print(f\"{bilangan} bukan bilangan prima.\")\n"
   ]
  },
  {
   "cell_type": "markdown",
   "id": "a41dea93-00cd-48f6-87b4-290854dd0bbd",
   "metadata": {},
   "source": [
    "## Matriks Transpos:\n",
    "Implementasikan operasi transposisi pada sebuah matriks."
   ]
  },
  {
   "cell_type": "code",
   "execution_count": 9,
   "id": "c2511563-2168-46f4-90fc-376c25c51c85",
   "metadata": {},
   "outputs": [
    {
     "name": "stdout",
     "output_type": "stream",
     "text": [
      "Matriks Awal:\n",
      "[1, 2, 3]\n",
      "[4, 5, 6]\n",
      "[7, 8, 9]\n",
      "\n",
      "Matriks Transposisi:\n",
      "[1, 4, 7]\n",
      "[2, 5, 8]\n",
      "[3, 6, 9]\n"
     ]
    }
   ],
   "source": [
    "def transpose_matriks(matriks):\n",
    "    # Mendapatkan jumlah baris dan kolom\n",
    "    baris = len(matriks)\n",
    "    kolom = len(matriks[0])\n",
    "\n",
    "    # Membuat matriks hasil transposisi\n",
    "    transposisi = [[0 for _ in range(baris)] for _ in range(kolom)]\n",
    "\n",
    "    # Melakukan transposisi\n",
    "    for i in range(baris):\n",
    "        for j in range(kolom):\n",
    "            transposisi[j][i] = matriks[i][j]\n",
    "\n",
    "    return transposisi\n",
    "\n",
    "# Contoh penggunaan\n",
    "matriks_awal = [\n",
    "    [1, 2, 3],\n",
    "    [4, 5, 6],\n",
    "    [7, 8, 9]\n",
    "]\n",
    "\n",
    "matriks_transposisi = transpose_matriks(matriks_awal)\n",
    "\n",
    "print(\"Matriks Awal:\")\n",
    "for row in matriks_awal:\n",
    "    print(row)\n",
    "\n",
    "print(\"\\nMatriks Transposisi:\")\n",
    "for row in matriks_transposisi:\n",
    "    print(row)\n"
   ]
  },
  {
   "cell_type": "markdown",
   "id": "edc6d45f-1b5d-4d28-a823-f96b7b4609df",
   "metadata": {},
   "source": [
    "## Fibonacci:\n",
    "Buat program untuk menghasilkan deret Fibonacci hingga suku ke-n."
   ]
  },
  {
   "cell_type": "code",
   "execution_count": 10,
   "id": "fa5aadb2-5eb9-4451-80ee-d09fafe697c8",
   "metadata": {},
   "outputs": [
    {
     "name": "stdout",
     "output_type": "stream",
     "text": [
      "Deret Fibbonanci dengan suku sebanyak 10 adalah [0, 1, 1, 2, 3, 5, 8, 13, 21, 34] dengan total 88\n"
     ]
    }
   ],
   "source": [
    "def Fibbonanci(newVal):\n",
    "    Fib = [0,1]\n",
    "    for i in range(2,newVal):\n",
    "        Fib.append(Fib[i-1]+Fib[i-2])\n",
    "    return Fib\n",
    "suku = 10\n",
    "print(f'Deret Fibbonanci dengan suku sebanyak {suku} adalah {Fibbonanci(suku)} dengan total {sum(Fibbonanci(suku))}')"
   ]
  },
  {
   "cell_type": "markdown",
   "id": "a08af3c3-75fc-4ebd-b183-ed6f78c86969",
   "metadata": {},
   "source": [
    "## Piramida Angka:\n",
    "Buat pola piramida angka dengan pola tertentu."
   ]
  },
  {
   "cell_type": "code",
   "execution_count": 11,
   "id": "84209581-39fd-48fe-b045-87d5fd4d0a6e",
   "metadata": {},
   "outputs": [
    {
     "name": "stdout",
     "output_type": "stream",
     "text": [
      "    1 \n",
      "  1 2 1 \n",
      "1 2 3 2 1 \n"
     ]
    }
   ],
   "source": [
    "def piramida_angka(tinggi):\n",
    "    for i in range(1, tinggi + 1):\n",
    "        # Membuat bagian kosong di sebelah kiri piramida\n",
    "        for j in range(tinggi - i):\n",
    "            print(\" \", end=\" \")\n",
    "\n",
    "        # Membuat pola angka di sebelah kanan piramida\n",
    "        for k in range(1, i + 1):\n",
    "            print(k, end=\" \")\n",
    "\n",
    "        # Membuat pola angka di sebelah kanan piramida (bagian terbalik)\n",
    "        for l in range(i - 1, 0, -1):\n",
    "            print(l, end=\" \")\n",
    "\n",
    "        # Pindah ke baris berikutnya setelah satu baris selesai\n",
    "        print()\n",
    "\n",
    "# Contoh penggunaan\n",
    "tinggi_piramida = 3\n",
    "piramida_angka(tinggi_piramida)\n"
   ]
  },
  {
   "cell_type": "markdown",
   "id": "b4894f14-814b-4b76-8032-e4626f29d8de",
   "metadata": {},
   "source": [
    "## Binary Search:\n",
    "Implementasikan algoritma Binary Search pada sebuah array terurut."
   ]
  },
  {
   "cell_type": "code",
   "execution_count": 12,
   "id": "b1d02ace-8ee2-4b47-b9d8-be4a47d846b1",
   "metadata": {},
   "outputs": [
    {
     "name": "stdout",
     "output_type": "stream",
     "text": [
      "3 ditemukan di indeks ke-2.\n"
     ]
    }
   ],
   "source": [
    "def binary_search(arr, target):\n",
    "    low, high = 0, len(arr) - 1\n",
    "\n",
    "    while low <= high:\n",
    "        mid = (low + high) // 2\n",
    "        mid_value = arr[mid]\n",
    "\n",
    "        if mid_value == target:\n",
    "            return mid  # Target ditemukan, mengembalikan indeksnya\n",
    "        elif mid_value < target:\n",
    "            low = mid + 1  # Pencarian dilakukan pada setengah kanan array\n",
    "        else:\n",
    "            high = mid - 1  # Pencarian dilakukan pada setengah kiri array\n",
    "\n",
    "    return -1  # Target tidak ditemukan\n",
    "\n",
    "# Contoh penggunaan\n",
    "array_terurut = [1, 2, 3, 4, 5, 6, 7, 8, 9, 10]\n",
    "target = 3\n",
    "\n",
    "hasil_binary_search = binary_search(array_terurut, target)\n",
    "\n",
    "if hasil_binary_search != -1:\n",
    "    print(f\"{target} ditemukan di indeks ke-{hasil_binary_search}.\")\n",
    "else:\n",
    "    print(f\"{target} tidak ditemukan dalam array.\")\n"
   ]
  },
  {
   "cell_type": "markdown",
   "id": "cecc13a2-edcd-4eb1-8c02-f816170d0760",
   "metadata": {},
   "source": [
    "## Hapus Duplikat:\n",
    "Buat program untuk menghapus elemen duplikat dalam sebuah array."
   ]
  },
  {
   "cell_type": "code",
   "execution_count": 13,
   "id": "0e892275-dcfd-4c2e-8781-1d1f06f23019",
   "metadata": {},
   "outputs": [
    {
     "name": "stdout",
     "output_type": "stream",
     "text": [
      "Array sebelum di bersihkan adalah [2, 2, 2, 2, 2, 2, 3, 4, 5, 6, 7, 8] dengan panjang 12\n",
      "Berikut adalah array yang sudah dibersihkan [2, 3, 4, 5, 6, 7, 8] dengan panjang 7\n"
     ]
    }
   ],
   "source": [
    "def Clearance(arr):\n",
    "    split = []\n",
    "    for x in arr:\n",
    "        if x not in split:\n",
    "            split.append(x)\n",
    "    return split\n",
    "arr = [2,2,2,2,2,2,3,4,5,6,7,8]\n",
    "print(f'Array sebelum di bersihkan adalah {arr} dengan panjang {len(arr)}\\nBerikut adalah array yang sudah dibersihkan {Clearance(arr)} dengan panjang {len(Clearance(arr))}')"
   ]
  },
  {
   "cell_type": "markdown",
   "id": "0f6b7a85-eb7e-4b32-9a71-0fad1dcffffa",
   "metadata": {},
   "source": [
    "## Anagram:\n",
    "Tentukan apakah dua string adalah anagram atau bukan."
   ]
  },
  {
   "cell_type": "code",
   "execution_count": 14,
   "id": "5e0f6466-771e-4d51-9aef-104ff1d62610",
   "metadata": {},
   "outputs": [
    {
     "name": "stdout",
     "output_type": "stream",
     "text": [
      "listen dan silent adalah anagram.\n"
     ]
    }
   ],
   "source": [
    "def Anagram(newString1, newString2):\n",
    "    # Menghapus spasi dan mengonversi huruf ke lowercase\n",
    "    newString1 = newString1.replace(\" \", \"\").lower()\n",
    "    newString2 = newString2.replace(\" \", \"\").lower()\n",
    "\n",
    "    # Memeriksa apakah kedua string memiliki huruf yang sama\n",
    "    return sorted(newString1) == sorted(newString2)\n",
    "\n",
    "# Contoh penggunaan\n",
    "kata1 = \"listen\"\n",
    "kata2 = \"silent\"\n",
    "\n",
    "if Anagram(kata1, kata2):\n",
    "    print(f\"{kata1} dan {kata2} adalah anagram.\")\n",
    "else:\n",
    "    print(f\"{kata1} dan {kata2} bukan anagram.\")\n"
   ]
  },
  {
   "cell_type": "markdown",
   "id": "61d56cdc-f8ba-414c-a8c1-6f252e1ef9a1",
   "metadata": {},
   "source": [
    "## Reverse String:\n",
    "Buat program untuk membalikkan urutan karakter dalam sebuah string."
   ]
  },
  {
   "cell_type": "code",
   "execution_count": 15,
   "id": "ca866a07-ccf8-485b-b33e-2dff7507e76b",
   "metadata": {},
   "outputs": [
    {
     "name": "stdout",
     "output_type": "stream",
     "text": [
      "Ini adalah kata sebelum di reverse 'Karel' dan ini adalah kata sesudah di reverse 'lerak'\n"
     ]
    }
   ],
   "source": [
    "def ReverseString(newString):\n",
    "    CleanedString = ''.join(filter(str.isalnum, newString)).lower()\n",
    "    return CleanedString[::-1]\n",
    "newString = \"Karel\"\n",
    "print(f\"Ini adalah kata sebelum di reverse '{newString}' dan ini adalah kata sesudah di reverse '{ReverseString(newString)}'\")"
   ]
  },
  {
   "cell_type": "markdown",
   "id": "c226465d-58d5-41f4-a9f2-5a1659a96181",
   "metadata": {},
   "source": [
    "## Cari Median:\n",
    "Buat program untuk menemukan nilai median dalam sebuah array."
   ]
  },
  {
   "cell_type": "code",
   "execution_count": 16,
   "id": "88d3024c-128f-4b53-8b23-6731f76e1e53",
   "metadata": {},
   "outputs": [
    {
     "name": "stdout",
     "output_type": "stream",
     "text": [
      "Data: [1, 2, 4, 5, 7, 8, 9]\n",
      "Median: 5\n"
     ]
    }
   ],
   "source": [
    "def hitung_median(arr):\n",
    "    # Mengurutkan array\n",
    "    arr.sort()\n",
    "\n",
    "    n = len(arr)\n",
    "\n",
    "    # Jika jumlah elemen ganjil\n",
    "    if n % 2 != 0:\n",
    "        median = arr[n // 2]\n",
    "    else:\n",
    "        # Jika jumlah elemen genap\n",
    "        mid1 = arr[(n-1) // 2]\n",
    "        mid2 = arr[n // 2]\n",
    "        median = (mid1 + mid2) / 2\n",
    "\n",
    "    return median\n",
    "\n",
    "# Contoh penggunaan\n",
    "data = [4, 2, 7, 1, 9, 5, 8]\n",
    "hasil_median = hitung_median(data)\n",
    "\n",
    "print(f\"Data: {data}\")\n",
    "print(f\"Median: {hasil_median}\")\n"
   ]
  },
  {
   "cell_type": "markdown",
   "id": "1e51d8fc-39fe-47e7-8997-7bdb3690d01d",
   "metadata": {},
   "source": [
    "## Hanoi Tower:\n",
    "Implementasikan solusi untuk masalah Menara Hanoi."
   ]
  },
  {
   "cell_type": "code",
   "execution_count": 17,
   "id": "7d74094a-ddf6-4865-944b-069140c9510f",
   "metadata": {},
   "outputs": [
    {
     "name": "stdout",
     "output_type": "stream",
     "text": [
      "Pindahkan cakram 1 dari A ke B\n",
      "Pindahkan cakram 2 dari A ke C\n",
      "Pindahkan cakram 1 dari B ke C\n"
     ]
    }
   ],
   "source": [
    "def menara_hanoi(n, tiang_asal, tiang_bantuan, tiang_tujuan):\n",
    "    if n == 1:\n",
    "        print(f\"Pindahkan cakram 1 dari {tiang_asal} ke {tiang_tujuan}\")\n",
    "        return\n",
    "    elif n < 1:\n",
    "        return \"Invalid\"\n",
    "    \n",
    "    menara_hanoi(n-1, tiang_asal, tiang_tujuan, tiang_bantuan)\n",
    "    print(f\"Pindahkan cakram {n} dari {tiang_asal} ke {tiang_tujuan}\")\n",
    "    menara_hanoi(n-1, tiang_bantuan, tiang_asal, tiang_tujuan)\n",
    "\n",
    "# Contoh penggunaan\n",
    "jumlah_cakram = 2\n",
    "tiang_asal = \"A\"\n",
    "tiang_bantuan = \"B\"\n",
    "tiang_tujuan = \"C\"\n",
    "\n",
    "menara_hanoi(jumlah_cakram, tiang_asal, tiang_bantuan, tiang_tujuan)\n"
   ]
  },
  {
   "cell_type": "markdown",
   "id": "9d701179-7f41-4d8a-b819-29ef31a892cb",
   "metadata": {},
   "source": [
    "## GCD (Greatest Common Divisor) atau FPB:\n",
    "Temukan GCD dari dua bilangan."
   ]
  },
  {
   "cell_type": "code",
   "execution_count": 18,
   "id": "e094d25b-0078-46e2-acc5-6eec918f8fb3",
   "metadata": {},
   "outputs": [
    {
     "name": "stdout",
     "output_type": "stream",
     "text": [
      "GCD dari 48 dan 18 adalah 6\n"
     ]
    }
   ],
   "source": [
    "def hitung_gcd(a, b):\n",
    "    while b:\n",
    "        a, b = b, a % b\n",
    "    return a\n",
    "\n",
    "# Contoh penggunaan\n",
    "bilangan1 = 48\n",
    "bilangan2 = 18\n",
    "\n",
    "gcd = hitung_gcd(bilangan1, bilangan2)\n",
    "\n",
    "print(f\"GCD dari {bilangan1} dan {bilangan2} adalah {gcd}\")\n"
   ]
  }
 ],
 "metadata": {
  "kernelspec": {
   "display_name": "Python 3 (ipykernel)",
   "language": "python",
   "name": "python3"
  },
  "language_info": {
   "codemirror_mode": {
    "name": "ipython",
    "version": 3
   },
   "file_extension": ".py",
   "mimetype": "text/x-python",
   "name": "python",
   "nbconvert_exporter": "python",
   "pygments_lexer": "ipython3",
   "version": "3.10.7"
  }
 },
 "nbformat": 4,
 "nbformat_minor": 5
}
