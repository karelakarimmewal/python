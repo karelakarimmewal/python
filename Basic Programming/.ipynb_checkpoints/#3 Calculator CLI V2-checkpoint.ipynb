{
 "cells": [
  {
   "cell_type": "markdown",
   "id": "a1b1973a-1c38-4210-8e08-7c1db3a9c7ea",
   "metadata": {},
   "source": [
    "## EXAMPLE 3 \n",
    "### (CALCULATOR CLI V2)"
   ]
  },
  {
   "cell_type": "markdown",
   "id": "9e977901-ebbe-4e85-8010-5a1fd865cbf6",
   "metadata": {},
   "source": [
    "Time Start : 11/12/2023, 12.25 PM\n",
    "; Time End : 11/12/2023, -"
   ]
  },
  {
   "cell_type": "code",
   "execution_count": 1,
   "id": "b28710ab-56a8-4a0f-9dbb-a4b407a3a6c2",
   "metadata": {},
   "outputs": [],
   "source": [
    "import math"
   ]
  },
  {
   "cell_type": "code",
   "execution_count": 22,
   "id": "738b2c90-59e0-4969-95bc-c1a96abb540c",
   "metadata": {},
   "outputs": [],
   "source": [
    "class calculator:\n",
    "    def exponent(a,b):\n",
    "        return a**b\n",
    "    def root(a):\n",
    "        return math.sqrt(a)\n",
    "    def logaritm(a,b):\n",
    "        return math.log(a,b)\n",
    "    def add(a,b):\n",
    "        return a + b\n",
    "    def substract(a,b):\n",
    "        return a - b\n",
    "    def multiply(a,b):\n",
    "        return a * b\n",
    "    def divide(a,b):\n",
    "        if b != 0:\n",
    "            return a/b\n",
    "        else:\n",
    "            return \"Invalid Number\"    "
   ]
  },
  {
   "cell_type": "code",
   "execution_count": 27,
   "id": "0553929b-78cf-42eb-9b5d-d64c71f8dfe0",
   "metadata": {},
   "outputs": [],
   "source": [
    "    def base(operator, a, b):\n",
    "        #check\n",
    "        if operator == \"1\":\n",
    "            results = calculator.add(a,b)\n",
    "            print(f\"{a} + {b} = {results}\")\n",
    "        elif operator == \"2\":\n",
    "            results = calculator.substract(a,b)\n",
    "            print(f\"{a} - {b} = {results}\")\n",
    "        elif operator == \"3\":\n",
    "            results = calculator.multiply(a,b)\n",
    "            print(f\"{a} * {b} = {results}\")\n",
    "        elif operator == \"4\":\n",
    "            results = calculator.divide(a,b)\n",
    "            print(f\"{a} / {b} = {results}\")\n",
    "        elif operator ==\"5\":\n",
    "            results = calculator.exponent(a,b)\n",
    "            print(f\"{a} / {b} = {results}\")\n",
    "        elif operator == \"6\":\n",
    "            results = calculator.root(a)\n",
    "            print(f\"akar dari {a} adalah {results}\")\n",
    "        elif operator == \"7\":\n",
    "            results = calculator.logaritm(a,b)\n",
    "            print(f\"{a} Log {b} = {results}\")\n",
    "        else:\n",
    "            print(\"Invalid Action\")"
   ]
  },
  {
   "cell_type": "code",
   "execution_count": 30,
   "id": "30a141cf-73b8-4333-8dea-1edaa35e4d19",
   "metadata": {},
   "outputs": [
    {
     "name": "stdout",
     "output_type": "stream",
     "text": [
      "________________________________\n",
      "Choose operator what u want !!! \n",
      "________________________________\n",
      "1. Add\n",
      "2. Substract\n",
      "3. Multiply\n",
      "4. Divide\n",
      "5. Exponent\n",
      "6. Root\n",
      "7. Logaritma\n",
      "________________________________\n",
      "________________________________\n",
      "________________________________\n"
     ]
    },
    {
     "name": "stdin",
     "output_type": "stream",
     "text": [
      "Operator :  7\n",
      "First Number 4\n",
      "Second Number 2\n"
     ]
    },
    {
     "name": "stdout",
     "output_type": "stream",
     "text": [
      "4.0 Log 2.0 = 2.0\n"
     ]
    }
   ],
   "source": [
    "    print(\"________________________________\")\n",
    "    print(\"Choose operator what u want !!! \")\n",
    "    print(\"________________________________\")\n",
    "    print(\"1. Add\")\n",
    "    print(\"2. Substract\")\n",
    "    print(\"3. Multiply\")\n",
    "    print(\"4. Divide\")\n",
    "    print(\"5. Exponent\")\n",
    "    print(\"6. Root\")\n",
    "    print(\"7. Logaritma\")\n",
    "    print(\"________________________________\")\n",
    "    print(\"________________________________\")\n",
    "    print(\"________________________________\")\n",
    "operator  = input(\"Operator : \")\n",
    "a = float(input(\"First Number\"))\n",
    "b = float(input(\"Second Number\"))\n",
    "base(operator, a, b)"
   ]
  },
  {
   "cell_type": "code",
   "execution_count": 15,
   "id": "e86f047d-3901-4424-9eab-7c5c02670e3a",
   "metadata": {},
   "outputs": [
    {
     "data": {
      "text/plain": [
       "16"
      ]
     },
     "execution_count": 15,
     "metadata": {},
     "output_type": "execute_result"
    }
   ],
   "source": [
    "calculator.exponent(4,2)"
   ]
  },
  {
   "cell_type": "code",
   "execution_count": null,
   "id": "5b8e9796-8446-43b1-b8dc-16f3039be099",
   "metadata": {},
   "outputs": [],
   "source": []
  }
 ],
 "metadata": {
  "kernelspec": {
   "display_name": "Python 3 (ipykernel)",
   "language": "python",
   "name": "python3"
  },
  "language_info": {
   "codemirror_mode": {
    "name": "ipython",
    "version": 3
   },
   "file_extension": ".py",
   "mimetype": "text/x-python",
   "name": "python",
   "nbconvert_exporter": "python",
   "pygments_lexer": "ipython3",
   "version": "3.10.7"
  }
 },
 "nbformat": 4,
 "nbformat_minor": 5
}
