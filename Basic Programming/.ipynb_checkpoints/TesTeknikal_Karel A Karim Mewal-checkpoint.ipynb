{
 "cells": [
  {
   "cell_type": "markdown",
   "id": "4e3d44ca-854c-4eb9-a7c6-0a3b485390bd",
   "metadata": {},
   "source": [
    "### Karel A Karim Mewal"
   ]
  },
  {
   "cell_type": "code",
   "execution_count": 11,
   "id": "a0aaf2e2-4a35-40b3-992f-7021d0eb109d",
   "metadata": {},
   "outputs": [
    {
     "name": "stdout",
     "output_type": "stream",
     "text": [
      "True\n"
     ]
    }
   ],
   "source": [
    "def keterangan(nilaiSiswa):\n",
    "    return 0 <= nilaiSiswa <= 100 and nilaiSiswa >= 70\n",
    "\n",
    "nilaiSiswa = int(80)\n",
    "output = keterangan(nilaiSiswa)\n",
    "print(output)"
   ]
  },
  {
   "cell_type": "code",
   "execution_count": null,
   "id": "5f985b2f-8e43-4887-9ddf-7d12de4a6515",
   "metadata": {},
   "outputs": [],
   "source": []
  }
 ],
 "metadata": {
  "kernelspec": {
   "display_name": "Python 3 (ipykernel)",
   "language": "python",
   "name": "python3"
  },
  "language_info": {
   "codemirror_mode": {
    "name": "ipython",
    "version": 3
   },
   "file_extension": ".py",
   "mimetype": "text/x-python",
   "name": "python",
   "nbconvert_exporter": "python",
   "pygments_lexer": "ipython3",
   "version": "3.10.7"
  }
 },
 "nbformat": 4,
 "nbformat_minor": 5
}
