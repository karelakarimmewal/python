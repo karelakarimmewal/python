{
 "cells": [
  {
   "cell_type": "markdown",
   "id": "44704491-9a97-418d-9ceb-dd3f6ab08fcd",
   "metadata": {},
   "source": [
    "## EXAMPLE 5 \n",
    "### (ATM PROJECT)"
   ]
  },
  {
   "cell_type": "markdown",
   "id": "8ffcbe80-dfea-4e10-9620-fa3c9653dda1",
   "metadata": {},
   "source": [
    "Time Start : 11/14/2023, 12.58 AM\n",
    "; Time End : 11/14/2023,"
   ]
  },
  {
   "cell_type": "code",
   "execution_count": 7,
   "id": "176b6469-f871-489d-bb28-bc8d63c1ca63",
   "metadata": {},
   "outputs": [],
   "source": [
    "class CardHolder:\n",
    "    def __init__(self, FirstName, LastName, CardNum, CardPin, CardBalance):\n",
    "        self.FirstName = FirstName\n",
    "        self.LastName = LastName\n",
    "        self.CardNum = CardNum\n",
    "        self.CardPin = CardPin\n",
    "        self.CardBalance = CardBalance\n",
    "    \n",
    "    #Get Card Data\n",
    "    def GetFirstName(self):\n",
    "        return self.FirstName\n",
    "    def GetLastName(self):\n",
    "        return self.LastName\n",
    "    def GetCardNum(self):\n",
    "        return self.CardNum\n",
    "    def GetCardPin(self):\n",
    "        return self.CardPin\n",
    "    def GetCardBalance(self):\n",
    "        return self.CardBalance\n",
    "\n",
    "    #Set Card Data\n",
    "    def SetFirstName(self, NewVal):\n",
    "        self.FirstName = NewVal\n",
    "    def SetLastName(self, NewVal):\n",
    "        self.LastName = NewVal\n",
    "    def SetCardNum(self, NewVal):\n",
    "        self.CardNum = NewVal\n",
    "    def SetCardPin(self, NewVal):\n",
    "        self.CardPin = NewVal\n",
    "    def SetCardBalance(self, NewVal):\n",
    "        self.CardBalance = NewVal\n",
    "    \n",
    "    #Check Set Card Data\n",
    "    def PrintOut(self):\n",
    "        print(f'First Name   : {self.FirstName}')\n",
    "        print(f'Last Name    : {self.LastName}')\n",
    "        print(f'Card Number  : {self.CardNum}')\n",
    "        print(f'Card Pin     : {self.CardPin}')\n",
    "        print(f'Card Balance : {self.CardBalance}')"
   ]
  },
  {
   "cell_type": "code",
   "execution_count": null,
   "id": "dd0a0464-9170-4149-a61c-a073bd19b8cf",
   "metadata": {},
   "outputs": [],
   "source": []
  }
 ],
 "metadata": {
  "kernelspec": {
   "display_name": "Python 3 (ipykernel)",
   "language": "python",
   "name": "python3"
  },
  "language_info": {
   "codemirror_mode": {
    "name": "ipython",
    "version": 3
   },
   "file_extension": ".py",
   "mimetype": "text/x-python",
   "name": "python",
   "nbconvert_exporter": "python",
   "pygments_lexer": "ipython3",
   "version": "3.10.7"
  }
 },
 "nbformat": 4,
 "nbformat_minor": 5
}
