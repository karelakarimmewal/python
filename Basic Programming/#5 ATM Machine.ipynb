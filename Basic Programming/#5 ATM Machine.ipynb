{
 "cells": [
  {
   "cell_type": "markdown",
   "id": "44704491-9a97-418d-9ceb-dd3f6ab08fcd",
   "metadata": {},
   "source": [
    "## EXAMPLE 5 \n",
    "### (ATM PROJECT)"
   ]
  },
  {
   "cell_type": "markdown",
   "id": "8ffcbe80-dfea-4e10-9620-fa3c9653dda1",
   "metadata": {},
   "source": [
    "Time Start : 11/14/2023, 12.58 AM\n",
    "; Time End : 11/14/2023, 02.46 AM"
   ]
  },
  {
   "cell_type": "code",
   "execution_count": 1,
   "id": "c256b632-9502-4855-8bca-c04017c5d2cf",
   "metadata": {},
   "outputs": [],
   "source": [
    "import json"
   ]
  },
  {
   "cell_type": "code",
   "execution_count": 2,
   "id": "176b6469-f871-489d-bb28-bc8d63c1ca63",
   "metadata": {},
   "outputs": [],
   "source": [
    "class CardHolder:\n",
    "    def __init__(self, FirstName, LastName, CardNum, CardPin, CardBalance):\n",
    "        self.FirstName = FirstName\n",
    "        self.LastName = LastName\n",
    "        self.CardNum = CardNum\n",
    "        self.CardPin = CardPin\n",
    "        self.CardBalance = CardBalance\n",
    "    \n",
    "    #Get Card Data\n",
    "    def GetFirstName(self):\n",
    "        return self.FirstName\n",
    "    def GetLastName(self):\n",
    "        return self.LastName\n",
    "    def GetCardNum(self):\n",
    "        return self.CardNum\n",
    "    def GetCardPin(self):\n",
    "        return self.CardPin\n",
    "    def GetCardBalance(self):\n",
    "        return self.CardBalance\n",
    "\n",
    "    #Set Card Data\n",
    "    def SetFirstName(self, NewVal):\n",
    "        self.FirstName = NewVal\n",
    "    def SetLastName(self, NewVal):\n",
    "        self.LastName = NewVal\n",
    "    def SetCardNum(self, NewVal):\n",
    "        self.CardNum = NewVal\n",
    "    def SetCardPin(self, NewVal):\n",
    "        self.CardPin = NewVal\n",
    "    def SetCardBalance(self, NewVal):\n",
    "        self.CardBalance = NewVal\n",
    "    \n",
    "    #Check Set Card Data\n",
    "    def PrintOut(self):\n",
    "        print(f'First Name   : {self.FirstName}')\n",
    "        print(f'Last Name    : {self.LastName}')\n",
    "        print(f'Card Number  : {self.CardNum}')\n",
    "        print(f'Card Pin     : {self.CardPin}')\n",
    "        print(f'Card Balance : {self.CardBalance}')"
   ]
  },
  {
   "cell_type": "code",
   "execution_count": 6,
   "id": "ef23ad20-59b0-4aeb-97b7-390e61d058f7",
   "metadata": {},
   "outputs": [],
   "source": [
    "def save_cardholders(cardholders, filename='cardholders.json'):\n",
    "    data = [\n",
    "        {\n",
    "            'FirstName': holder.GetFirstName(),\n",
    "            'LastName': holder.GetLastName(),\n",
    "            'CardNum': holder.GetCardNum(),\n",
    "            'CardPin': holder.GetCardPin(),\n",
    "            'CardBalance': holder.GetCardBalance()\n",
    "        }\n",
    "        for holder in cardholders\n",
    "    ]\n",
    "\n",
    "    with open(filename, 'w') as file:\n",
    "        json.dump(data, file)\n",
    "\n",
    "def load_cardholders(filename='cardholders.json'):\n",
    "    try:\n",
    "        with open(filename, 'r') as file:\n",
    "            data = json.load(file)\n",
    "\n",
    "        cardholders = [\n",
    "            CardHolder(\n",
    "                entry['FirstName'],\n",
    "                entry['LastName'],\n",
    "                entry['CardNum'],\n",
    "                entry['CardPin'],\n",
    "                entry['CardBalance']\n",
    "            )\n",
    "            for entry in data\n",
    "        ]\n",
    "\n",
    "        return cardholders\n",
    "    except (FileNotFoundError, json.JSONDecodeError):\n",
    "        default_data = [\n",
    "            CardHolder('Karel', 'Mewal', '1234567890', 111213, 5000000),\n",
    "            CardHolder('John', 'Doe', '9876543210', 91214, 100000),\n",
    "            CardHolder('Jane', 'Smith', '5555666677778888', 10225, 75000),\n",
    "            CardHolder('Alice', 'Johnson', '1234123412341234', 52328, 120000),\n",
    "            CardHolder('Bob', 'Williams', '9999888877776666', 8123, 200000),\n",
    "            CardHolder('Charlie', 'Brown', '1111222233334444', 32230, 300000)\n",
    "        ]\n",
    "        save_cardholders(default_data)\n",
    "        return default_data\n"
   ]
  },
  {
   "cell_type": "code",
   "execution_count": 9,
   "id": "dd0a0464-9170-4149-a61c-a073bd19b8cf",
   "metadata": {},
   "outputs": [
    {
     "name": "stdin",
     "output_type": "stream",
     "text": [
      "Please insert your debit card number:  1234567890\n",
      "Please insert your debit card pin:  111213\n"
     ]
    },
    {
     "name": "stdout",
     "output_type": "stream",
     "text": [
      "Welcome Mewal\n",
      "Please choose what you want?\n",
      "1. Deposit\n",
      "2. Withdraw\n",
      "3. Check Balance\n",
      "4. Exit\n"
     ]
    },
    {
     "name": "stdin",
     "output_type": "stream",
     "text": [
      " 3\n"
     ]
    },
    {
     "name": "stdout",
     "output_type": "stream",
     "text": [
      "Your current balance is : Rp.4940000.0\n",
      "Please choose what you want?\n",
      "1. Deposit\n",
      "2. Withdraw\n",
      "3. Check Balance\n",
      "4. Exit\n"
     ]
    },
    {
     "name": "stdin",
     "output_type": "stream",
     "text": [
      " 1\n",
      "How much money do you want to deposit : Rp.  2397816127836218\n"
     ]
    },
    {
     "name": "stdout",
     "output_type": "stream",
     "text": [
      "4940000.0\n",
      "Thank you, now your current balance is : Rp.2397816132776218.0\n",
      "Please choose what you want?\n",
      "1. Deposit\n",
      "2. Withdraw\n",
      "3. Check Balance\n",
      "4. Exit\n"
     ]
    },
    {
     "name": "stdin",
     "output_type": "stream",
     "text": [
      " 3\n"
     ]
    },
    {
     "name": "stdout",
     "output_type": "stream",
     "text": [
      "Your current balance is : Rp.2397816132776218.0\n",
      "Please choose what you want?\n",
      "1. Deposit\n",
      "2. Withdraw\n",
      "3. Check Balance\n",
      "4. Exit\n"
     ]
    },
    {
     "name": "stdin",
     "output_type": "stream",
     "text": [
      " 2\n",
      "How much money do you want to withdrawing : Rp.  2781631231131\n"
     ]
    },
    {
     "name": "stdout",
     "output_type": "stream",
     "text": [
      "Thank you\n",
      "Please choose what you want?\n",
      "1. Deposit\n",
      "2. Withdraw\n",
      "3. Check Balance\n",
      "4. Exit\n"
     ]
    },
    {
     "name": "stdin",
     "output_type": "stream",
     "text": [
      " 3\n"
     ]
    },
    {
     "name": "stdout",
     "output_type": "stream",
     "text": [
      "Your current balance is : Rp.2395034501545087.0\n",
      "Please choose what you want?\n",
      "1. Deposit\n",
      "2. Withdraw\n",
      "3. Check Balance\n",
      "4. Exit\n"
     ]
    },
    {
     "name": "stdin",
     "output_type": "stream",
     "text": [
      " 4\n"
     ]
    }
   ],
   "source": [
    "def Menu():\n",
    "    print(\"Please choose what you want?\")\n",
    "    print(\"1. Deposit\")\n",
    "    print(\"2. Withdraw\")\n",
    "    print(\"3. Check Balance\")\n",
    "    print(\"4. Exit\")\n",
    "\n",
    "def Deposit(CardHolder):\n",
    "    try:\n",
    "        deposit = float(input(\"How much money do you want to deposit : Rp. \"))\n",
    "        print(CardHolder.GetCardBalance())\n",
    "        CardHolder.SetCardBalance(CardHolder.GetCardBalance() + deposit)\n",
    "        print(f'Thank you, now your current balance is : Rp.{str(CardHolder.GetCardBalance())}')\n",
    "    except ValueError:\n",
    "        print(\"Invalid Input\")\n",
    "        \n",
    "def Withdraw(CardHolder):\n",
    "    try:\n",
    "        Withdraw = float(input(\"How much money do you want to withdrawing : Rp. \"))\n",
    "        if(Withdraw > CardHolder.GetCardBalance()):\n",
    "            print(\"Insufficient Balance\")\n",
    "        else:\n",
    "            CardHolder.SetCardBalance(CardHolder.GetCardBalance() - Withdraw)\n",
    "            print(f'Thank you')\n",
    "    except ValueError:\n",
    "        print(\"Invalid Input\")\n",
    "\n",
    "def CheckBalance(CardHolder):\n",
    "    print(f'Your current balance is : Rp.{CardHolder.GetCardBalance()}')\n",
    "\n",
    "if __name__ == '__main__':\n",
    "    LoCardHolder = load_cardholders()\n",
    "    CurrentUser = ('','','','','')\n",
    "    \n",
    "    DebitCardNum = ''\n",
    "    while True:\n",
    "        try:\n",
    "            DebitCardNum = input(\"Please insert your debit card number: \")\n",
    "            DataMatch = [holder for holder in LoCardHolder if holder.GetCardNum() == DebitCardNum]\n",
    "\n",
    "            if(len(DataMatch) > 0):\n",
    "                CurrentUser = DataMatch[0]\n",
    "                break\n",
    "            else:\n",
    "                print('Card number not recognized, Please Try Again ')\n",
    "        except:\n",
    "            print('Card number not recognized, Please Try Again ')\n",
    "    \n",
    "    while True:\n",
    "        try:\n",
    "            DebitCardPin = int(input(\"Please insert your debit card pin: \"))\n",
    "            if(CurrentUser.GetCardPin() == DebitCardPin):\n",
    "                break\n",
    "            else:\n",
    "                print(\"Invalid pin number, Please Try Again\")\n",
    "        except:\n",
    "            print(\"Invalid pin number, Please Try Again\")\n",
    "\n",
    "    print(f\"Welcome {CurrentUser.GetLastName()}\")\n",
    "    Option = 0\n",
    "    while (True):\n",
    "        Menu()\n",
    "        try:\n",
    "            Option = int(input())\n",
    "        except:\n",
    "            print(\"Invalid Input\")\n",
    "        if(Option == 1):\n",
    "            Deposit(CurrentUser)\n",
    "        elif(Option == 2):\n",
    "            Withdraw(CurrentUser)\n",
    "        elif(Option == 3):\n",
    "            CheckBalance(CurrentUser)\n",
    "        elif(Option == 4):\n",
    "            save_cardholders(LoCardHolder)\n",
    "            break\n",
    "        else:\n",
    "            Option = 0\n",
    "                  "
   ]
  },
  {
   "cell_type": "code",
   "execution_count": null,
   "id": "f0655687-f35a-4b67-95f0-9deff0e0f741",
   "metadata": {},
   "outputs": [],
   "source": []
  }
 ],
 "metadata": {
  "kernelspec": {
   "display_name": "Python 3 (ipykernel)",
   "language": "python",
   "name": "python3"
  },
  "language_info": {
   "codemirror_mode": {
    "name": "ipython",
    "version": 3
   },
   "file_extension": ".py",
   "mimetype": "text/x-python",
   "name": "python",
   "nbconvert_exporter": "python",
   "pygments_lexer": "ipython3",
   "version": "3.10.7"
  }
 },
 "nbformat": 4,
 "nbformat_minor": 5
}
